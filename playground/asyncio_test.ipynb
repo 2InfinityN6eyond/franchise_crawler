{
 "cells": [
  {
   "cell_type": "code",
   "execution_count": 2,
   "metadata": {},
   "outputs": [],
   "source": [
    "import asyncio\n",
    "import requests"
   ]
  },
  {
   "cell_type": "code",
   "execution_count": 21,
   "metadata": {},
   "outputs": [],
   "source": [
    "import time\n",
    "\n",
    "async def fetchList(params) :\n",
    "    \n",
    "    \n",
    "    \"\"\"\n",
    "    resp = await requests.get(\n",
    "        \"https://franchise.ftc.go.kr/mnu/00013/program/userRqst/list.do\",\n",
    "        params = params\n",
    "    )\n",
    "    \"\"\"\n",
    "\n",
    "    return resp.content.strip()"
   ]
  },
  {
   "cell_type": "code",
   "execution_count": 22,
   "metadata": {},
   "outputs": [
    {
     "ename": "TypeError",
     "evalue": "object Response can't be used in 'await' expression",
     "output_type": "error",
     "traceback": [
      "\u001b[0;31m---------------------------------------------------------------------------\u001b[0m",
      "\u001b[0;31mTypeError\u001b[0m                                 Traceback (most recent call last)",
      "\u001b[1;32mc:\\Users\\hjp\\HJP\\projs\\no_name_yet\\playground\\asyncio_test.ipynb 셀 3\u001b[0m in \u001b[0;36m<cell line: 14>\u001b[0;34m()\u001b[0m\n\u001b[1;32m      <a href='vscode-notebook-cell:/c%3A/Users/hjp/HJP/projs/no_name_yet/playground/asyncio_test.ipynb#W2sZmlsZQ%3D%3D?line=0'>1</a>\u001b[0m \u001b[39mfrom\u001b[39;00m \u001b[39mregex\u001b[39;00m \u001b[39mimport\u001b[39;00m B\n\u001b[1;32m      <a href='vscode-notebook-cell:/c%3A/Users/hjp/HJP/projs/no_name_yet/playground/asyncio_test.ipynb#W2sZmlsZQ%3D%3D?line=3'>4</a>\u001b[0m param \u001b[39m=\u001b[39m {\n\u001b[1;32m      <a href='vscode-notebook-cell:/c%3A/Users/hjp/HJP/projs/no_name_yet/playground/asyncio_test.ipynb#W2sZmlsZQ%3D%3D?line=4'>5</a>\u001b[0m     \u001b[39m\"\u001b[39m\u001b[39msearchCondition\u001b[39m\u001b[39m\"\u001b[39m : \u001b[39m\"\u001b[39m\u001b[39m\"\u001b[39m,\n\u001b[1;32m      <a href='vscode-notebook-cell:/c%3A/Users/hjp/HJP/projs/no_name_yet/playground/asyncio_test.ipynb#W2sZmlsZQ%3D%3D?line=5'>6</a>\u001b[0m     \u001b[39m\"\u001b[39m\u001b[39msearchKeyword\u001b[39m\u001b[39m\"\u001b[39m : \u001b[39m\"\u001b[39m\u001b[39m\"\u001b[39m,\n\u001b[0;32m   (...)\u001b[0m\n\u001b[1;32m     <a href='vscode-notebook-cell:/c%3A/Users/hjp/HJP/projs/no_name_yet/playground/asyncio_test.ipynb#W2sZmlsZQ%3D%3D?line=10'>11</a>\u001b[0m     \u001b[39m\"\u001b[39m\u001b[39mpageIndex\u001b[39m\u001b[39m\"\u001b[39m : \u001b[39m\"\u001b[39m\u001b[39m4\u001b[39m\u001b[39m\"\u001b[39m\n\u001b[1;32m     <a href='vscode-notebook-cell:/c%3A/Users/hjp/HJP/projs/no_name_yet/playground/asyncio_test.ipynb#W2sZmlsZQ%3D%3D?line=11'>12</a>\u001b[0m }\n\u001b[0;32m---> <a href='vscode-notebook-cell:/c%3A/Users/hjp/HJP/projs/no_name_yet/playground/asyncio_test.ipynb#W2sZmlsZQ%3D%3D?line=13'>14</a>\u001b[0m result \u001b[39m=\u001b[39m \u001b[39mawait\u001b[39;00m asyncio\u001b[39m.\u001b[39mgather(\n\u001b[1;32m     <a href='vscode-notebook-cell:/c%3A/Users/hjp/HJP/projs/no_name_yet/playground/asyncio_test.ipynb#W2sZmlsZQ%3D%3D?line=14'>15</a>\u001b[0m     \u001b[39m*\u001b[39m[\n\u001b[1;32m     <a href='vscode-notebook-cell:/c%3A/Users/hjp/HJP/projs/no_name_yet/playground/asyncio_test.ipynb#W2sZmlsZQ%3D%3D?line=15'>16</a>\u001b[0m         fetchList(param)\n\u001b[1;32m     <a href='vscode-notebook-cell:/c%3A/Users/hjp/HJP/projs/no_name_yet/playground/asyncio_test.ipynb#W2sZmlsZQ%3D%3D?line=16'>17</a>\u001b[0m         \u001b[39mfor\u001b[39;00m i \u001b[39min\u001b[39;00m \u001b[39mrange\u001b[39m(\u001b[39m3\u001b[39m)\n\u001b[1;32m     <a href='vscode-notebook-cell:/c%3A/Users/hjp/HJP/projs/no_name_yet/playground/asyncio_test.ipynb#W2sZmlsZQ%3D%3D?line=17'>18</a>\u001b[0m     ]\n\u001b[1;32m     <a href='vscode-notebook-cell:/c%3A/Users/hjp/HJP/projs/no_name_yet/playground/asyncio_test.ipynb#W2sZmlsZQ%3D%3D?line=18'>19</a>\u001b[0m )\n",
      "\u001b[1;32mc:\\Users\\hjp\\HJP\\projs\\no_name_yet\\playground\\asyncio_test.ipynb 셀 3\u001b[0m in \u001b[0;36mfetchList\u001b[0;34m(params)\u001b[0m\n\u001b[1;32m      <a href='vscode-notebook-cell:/c%3A/Users/hjp/HJP/projs/no_name_yet/playground/asyncio_test.ipynb#W2sZmlsZQ%3D%3D?line=2'>3</a>\u001b[0m \u001b[39masync\u001b[39;00m \u001b[39mdef\u001b[39;00m \u001b[39mfetchList\u001b[39m(params) :\n\u001b[0;32m----> <a href='vscode-notebook-cell:/c%3A/Users/hjp/HJP/projs/no_name_yet/playground/asyncio_test.ipynb#W2sZmlsZQ%3D%3D?line=3'>4</a>\u001b[0m     resp \u001b[39m=\u001b[39m \u001b[39mawait\u001b[39;00m requests\u001b[39m.\u001b[39mget(\n\u001b[1;32m      <a href='vscode-notebook-cell:/c%3A/Users/hjp/HJP/projs/no_name_yet/playground/asyncio_test.ipynb#W2sZmlsZQ%3D%3D?line=4'>5</a>\u001b[0m         \u001b[39m\"\u001b[39m\u001b[39mhttps://franchise.ftc.go.kr/mnu/00013/program/userRqst/list.do\u001b[39m\u001b[39m\"\u001b[39m,\n\u001b[1;32m      <a href='vscode-notebook-cell:/c%3A/Users/hjp/HJP/projs/no_name_yet/playground/asyncio_test.ipynb#W2sZmlsZQ%3D%3D?line=5'>6</a>\u001b[0m         params \u001b[39m=\u001b[39m params\n\u001b[1;32m      <a href='vscode-notebook-cell:/c%3A/Users/hjp/HJP/projs/no_name_yet/playground/asyncio_test.ipynb#W2sZmlsZQ%3D%3D?line=6'>7</a>\u001b[0m     )\n\u001b[1;32m      <a href='vscode-notebook-cell:/c%3A/Users/hjp/HJP/projs/no_name_yet/playground/asyncio_test.ipynb#W2sZmlsZQ%3D%3D?line=8'>9</a>\u001b[0m     \u001b[39mreturn\u001b[39;00m resp\u001b[39m.\u001b[39mcontent\u001b[39m.\u001b[39mstrip()\n",
      "\u001b[0;31mTypeError\u001b[0m: object Response can't be used in 'await' expression"
     ]
    }
   ],
   "source": [
    "from regex import B\n",
    "\n",
    "\n",
    "param = {\n",
    "    \"searchCondition\" : \"\",\n",
    "    \"searchKeyword\" : \"\",\n",
    "    \"column\" : \"brd\",\n",
    "    \"selUpjong\":\"21\",\n",
    "    \"selIndus\" : \"\",\n",
    "    \"pageUnit\" : \"10\",\n",
    "    \"pageIndex\" : \"4\"\n",
    "}\n",
    "\n",
    "result = await asyncio.gather(\n",
    "    *[\n",
    "        fetchList(param)\n",
    "        for i in range(3)\n",
    "    ]\n",
    ")"
   ]
  },
  {
   "cell_type": "code",
   "execution_count": 14,
   "metadata": {},
   "outputs": [
    {
     "data": {
      "text/plain": [
       "[10, 10, 10]"
      ]
     },
     "execution_count": 14,
     "metadata": {},
     "output_type": "execute_result"
    }
   ],
   "source": [
    "result"
   ]
  },
  {
   "cell_type": "code",
   "execution_count": 11,
   "metadata": {},
   "outputs": [
    {
     "data": {
      "text/plain": [
       "[10, 10, 10]"
      ]
     },
     "execution_count": 11,
     "metadata": {},
     "output_type": "execute_result"
    }
   ],
   "source": [
    "async def count():\n",
    "    await asyncio.sleep(1)\n",
    "    return  10\n",
    "\n",
    "async def main():\n",
    "    xx = await asyncio.gather(count(), count(), count())\n",
    "    return xx\n",
    "\n",
    "#asyncio.run(main())\n",
    "\n",
    "await main()\n"
   ]
  },
  {
   "cell_type": "code",
   "execution_count": 26,
   "metadata": {},
   "outputs": [
    {
     "name": "stdout",
     "output_type": "stream",
     "text": [
      "<class 'str'>\n"
     ]
    }
   ],
   "source": [
    "resp = requests.get(\n",
    "    \"https://franchise.ftc.go.kr/mnu/00013/program/userRqst/list.do\",\n",
    "    params = {\n",
    "        \"searchCondition\" : \"\",\n",
    "        \"searchKeyword\" : \"\",\n",
    "        \"column\" : \"brd\",\n",
    "        \"selUpjong\":\"21\",\n",
    "        \"selIndus\" : \"\",\n",
    "        \"pageUnit\" : \"300\",\n",
    "        \"pageIndex\" : \"4\"\n",
    "    }\n",
    ")\n",
    "\n",
    "print(type(resp.text.strip()))"
   ]
  },
  {
   "cell_type": "code",
   "execution_count": 31,
   "metadata": {},
   "outputs": [
    {
     "name": "stdout",
     "output_type": "stream",
     "text": [
      "<bound method ClientResponse.text of <ClientResponse(https://franchise.ftc.go.kr/mnu/00013/program/userRqst/list.do?searchCondition=&searchKeyword=&column=brd&selUpjong=21&selIndus=&pageUnit=300&pageIndex=4) [200 OK]>\n",
      "<CIMultiDictProxy('Date': 'Sun, 09 Oct 2022 07:59:51 GMT', 'Server': 'Apache', 'Expires': '0', 'Cache-Control': 'no-cache, no-store, max-age=0, must-revalidate', 'Set-Cookie': 'JSESSIONID=KOJQV5LfgbteRiPhnrPx-MIunCNKrcHkDJ7ohjx2.node21; path=/', 'Set-Cookie': 'SCOUTER=x214bbrdo71c08; path=/; Max-Age=2147483647; Expires=Fri, 27-Oct-2090 11:13:59 GMT', 'X-XSS-Protection': '1; mode=block', 'Pragma': 'no-cache', 'X-Frame-Options': 'SAMEORIGIN', 'X-Content-Type-Options': 'nosniff', 'Strict-Transport-Security': 'max-age=31536000 ; includeSubDomains', 'Content-Language': 'ko-', 'Transfer-Encoding': 'chunked', 'Content-Type': 'text/html;charset=UTF-8')>\n",
      ">\n"
     ]
    }
   ],
   "source": [
    "import aiohttp\n",
    "\n",
    "async with aiohttp.ClientSession() as session :\n",
    "    async with session.get(\n",
    "        \"https://franchise.ftc.go.kr/mnu/00013/program/userRqst/list.do\",\n",
    "        params = {\n",
    "            \"searchCondition\" : \"\",\n",
    "            \"searchKeyword\" : \"\",\n",
    "            \"column\" : \"brd\",\n",
    "            \"selUpjong\":\"21\",\n",
    "            \"selIndus\" : \"\",\n",
    "            \"pageUnit\" : \"300\",\n",
    "            \"pageIndex\" : \"4\"\n",
    "        }\n",
    "    ) as resp :\n",
    "        print(resp.text)"
   ]
  },
  {
   "cell_type": "code",
   "execution_count": 59,
   "metadata": {},
   "outputs": [],
   "source": [
    "async def asyncFetch() :\n",
    "    async with aiohttp.ClientSession() as session :\n",
    "        async with session.get(\n",
    "            \"https://franchise.ftc.go.kr/mnu/00013/program/userRqst/list.do\",\n",
    "            params = {\n",
    "                \"searchCondition\" : \"\",\n",
    "                \"searchKeyword\" : \"\",\n",
    "                \"column\" : \"brd\",\n",
    "                \"selUpjong\":\"21\",\n",
    "                \"selIndus\" : \"\",\n",
    "                \"pageUnit\" : \"300\",\n",
    "                \"pageIndex\" : \"4\"\n",
    "            }\n",
    "        ) as resp :\n",
    "            resp_text = await resp.text()\n",
    "            return resp_text            "
   ]
  },
  {
   "cell_type": "code",
   "execution_count": 60,
   "metadata": {},
   "outputs": [],
   "source": [
    "resp_text = await asyncFetch()"
   ]
  },
  {
   "cell_type": "code",
   "execution_count": 61,
   "metadata": {},
   "outputs": [
    {
     "data": {
      "text/plain": [
       "str"
      ]
     },
     "execution_count": 61,
     "metadata": {},
     "output_type": "execute_result"
    }
   ],
   "source": [
    "type(resp_text)"
   ]
  },
  {
   "cell_type": "code",
   "execution_count": 56,
   "metadata": {},
   "outputs": [],
   "source": [
    "from bs4 import BeautifulSoup\n",
    "\n",
    "\n",
    "soup = BeautifulSoup(resp_text, \"lxml\")"
   ]
  },
  {
   "cell_type": "code",
   "execution_count": 58,
   "metadata": {},
   "outputs": [
    {
     "data": {
      "text/plain": [
       "1"
      ]
     },
     "execution_count": 58,
     "metadata": {},
     "output_type": "execute_result"
    }
   ],
   "source": [
    "len(soup.form.findAll(\"table\"))"
   ]
  },
  {
   "cell_type": "code",
   "execution_count": null,
   "metadata": {},
   "outputs": [],
   "source": [
    "from urllib.parse import urlencode\n",
    "\n",
    "\n",
    "urlen"
   ]
  }
 ],
 "metadata": {
  "kernelspec": {
   "display_name": "Python 3.9.12 ('base')",
   "language": "python",
   "name": "python3"
  },
  "language_info": {
   "codemirror_mode": {
    "name": "ipython",
    "version": 3
   },
   "file_extension": ".py",
   "mimetype": "text/x-python",
   "name": "python",
   "nbconvert_exporter": "python",
   "pygments_lexer": "ipython3",
   "version": "3.9.12"
  },
  "orig_nbformat": 4,
  "vscode": {
   "interpreter": {
    "hash": "10eb691bccf4257ab2fd488ca240ccf2dbe4f63e86b02aaf0035184014e5e0fd"
   }
  }
 },
 "nbformat": 4,
 "nbformat_minor": 2
}
