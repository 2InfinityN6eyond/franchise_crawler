{
 "cells": [
  {
   "cell_type": "code",
   "execution_count": 1,
   "metadata": {},
   "outputs": [
    {
     "name": "stdout",
     "output_type": "stream",
     "text": [
      "Requirement already satisfied: beautifulsoup4 in /Users/hjp/.pyenv/versions/3.10.5/lib/python3.10/site-packages (4.11.1)\n",
      "Collecting requests\n",
      "  Using cached requests-2.28.1-py3-none-any.whl (62 kB)\n",
      "Requirement already satisfied: aiohttp in /Users/hjp/.pyenv/versions/3.10.5/lib/python3.10/site-packages (3.8.3)\n",
      "Requirement already satisfied: soupsieve>1.2 in /Users/hjp/.pyenv/versions/3.10.5/lib/python3.10/site-packages (from beautifulsoup4) (2.3.2.post1)\n",
      "Requirement already satisfied: idna<4,>=2.5 in /Users/hjp/.pyenv/versions/3.10.5/lib/python3.10/site-packages (from requests) (3.4)\n",
      "Collecting certifi>=2017.4.17\n",
      "  Downloading certifi-2022.9.24-py3-none-any.whl (161 kB)\n",
      "\u001b[2K     \u001b[90m━━━━━━━━━━━━━━━━━━━━━━━━━━━━━━━━━━━━━━━\u001b[0m \u001b[32m161.1/161.1 KB\u001b[0m \u001b[31m2.8 MB/s\u001b[0m eta \u001b[36m0:00:00\u001b[0ma \u001b[36m0:00:01\u001b[0m\n",
      "\u001b[?25hCollecting urllib3<1.27,>=1.21.1\n",
      "  Using cached urllib3-1.26.12-py2.py3-none-any.whl (140 kB)\n",
      "Requirement already satisfied: charset-normalizer<3,>=2 in /Users/hjp/.pyenv/versions/3.10.5/lib/python3.10/site-packages (from requests) (2.1.1)\n",
      "Requirement already satisfied: multidict<7.0,>=4.5 in /Users/hjp/.pyenv/versions/3.10.5/lib/python3.10/site-packages (from aiohttp) (6.0.2)\n",
      "Requirement already satisfied: frozenlist>=1.1.1 in /Users/hjp/.pyenv/versions/3.10.5/lib/python3.10/site-packages (from aiohttp) (1.3.1)\n",
      "Requirement already satisfied: yarl<2.0,>=1.0 in /Users/hjp/.pyenv/versions/3.10.5/lib/python3.10/site-packages (from aiohttp) (1.8.1)\n",
      "Requirement already satisfied: async-timeout<5.0,>=4.0.0a3 in /Users/hjp/.pyenv/versions/3.10.5/lib/python3.10/site-packages (from aiohttp) (4.0.2)\n",
      "Requirement already satisfied: aiosignal>=1.1.2 in /Users/hjp/.pyenv/versions/3.10.5/lib/python3.10/site-packages (from aiohttp) (1.2.0)\n",
      "Requirement already satisfied: attrs>=17.3.0 in /Users/hjp/.pyenv/versions/3.10.5/lib/python3.10/site-packages (from aiohttp) (22.1.0)\n",
      "Installing collected packages: urllib3, certifi, requests\n",
      "Successfully installed certifi-2022.9.24 requests-2.28.1 urllib3-1.26.12\n",
      "\u001b[33mWARNING: You are using pip version 22.0.4; however, version 22.2.2 is available.\n",
      "You should consider upgrading via the '/Users/hjp/.pyenv/versions/3.10.5/bin/python3.10 -m pip install --upgrade pip' command.\u001b[0m\u001b[33m\n",
      "\u001b[0m"
     ]
    }
   ],
   "source": [
    "!pip install beautifulsoup4 requests aiohttp lxml\n",
    "!pip install python-dateutil\n",
    "!pip install tqdm argparse\n",
    "\n",
    "\n",
    "\n",
    "# lxml : beautifulsoup4 에서 html 텍스트를 파싱할 때 백엔드로 쓰는 라이브러리이다"
   ]
  }
 ],
 "metadata": {
  "kernelspec": {
   "display_name": "Python 3.9.12 ('base')",
   "language": "python",
   "name": "python3"
  },
  "language_info": {
   "codemirror_mode": {
    "name": "ipython",
    "version": 3
   },
   "file_extension": ".py",
   "mimetype": "text/x-python",
   "name": "python",
   "nbconvert_exporter": "python",
   "pygments_lexer": "ipython3",
   "version": "3.9.12"
  },
  "orig_nbformat": 4,
  "vscode": {
   "interpreter": {
    "hash": "10eb691bccf4257ab2fd488ca240ccf2dbe4f63e86b02aaf0035184014e5e0fd"
   }
  }
 },
 "nbformat": 4,
 "nbformat_minor": 2
}
