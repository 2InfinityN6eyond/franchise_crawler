{
 "cells": [
  {
   "cell_type": "code",
   "execution_count": 2,
   "metadata": {},
   "outputs": [],
   "source": [
    "import requests\n",
    "from bs4 import BeautifulSoup\n",
    "import pandas as pd\n",
    "import threading\n",
    "\n",
    "\n",
    "from pprint import PrettyPrinter\n",
    "pp = PrettyPrinter(indent=4)\n",
    "\n",
    "from scripts.franchise import Franchise\n",
    "from scripts.franchise_data_fetcher import FranchiseDataProvideSystemCrawler"
   ]
  },
  {
   "cell_type": "code",
   "execution_count": 15,
   "metadata": {},
   "outputs": [
    {
     "name": "stdout",
     "output_type": "stream",
     "text": [
      "https://franchise.ftc.go.kr/mnu/00013/program/userRqst/list.do?searchCondition=&searchKeyword=&column=brd&selUpjong=21&selIndus=&pageUnit=300&pageIndex=1\n"
     ]
    }
   ],
   "source": [
    "resp = requests.get(\n",
    "    \"https://franchise.ftc.go.kr/mnu/00013/program/userRqst/list.do\",\n",
    "    params = {\n",
    "        \"searchCondition\" : \"\",\n",
    "        \"searchKeyword\" : \"\",\n",
    "        \"column\" : \"brd\",\n",
    "        \"selUpjong\":\"21\",\n",
    "        \"selIndus\" : \"\",\n",
    "        \"pageUnit\" : \"300\",\n",
    "        \"pageIndex\" : \"1\"\n",
    "    }\n",
    ")\n",
    "print(resp.url)\n",
    "soup = BeautifulSoup(resp.content, \"lxml\")"
   ]
  },
  {
   "cell_type": "code",
   "execution_count": 16,
   "metadata": {},
   "outputs": [
    {
     "name": "stdout",
     "output_type": "stream",
     "text": [
      "1\n"
     ]
    }
   ],
   "source": [
    "print(len(soup.findAll(\"table\")))"
   ]
  },
  {
   "cell_type": "code",
   "execution_count": 17,
   "metadata": {},
   "outputs": [],
   "source": [
    "table_rows = soup.table.tbody.findAll(\"tr\")"
   ]
  },
  {
   "cell_type": "code",
   "execution_count": 26,
   "metadata": {},
   "outputs": [
    {
     "name": "stdout",
     "output_type": "stream",
     "text": [
      "9473 {'firMstSn': '442232'}\n"
     ]
    }
   ],
   "source": [
    "def parseFranchiseTableRow(row_tag) :\n",
    "    # list_url 에서 테이블의 행 인덱스\n",
    "    num = row_tag.find(\"td\").text.strip()\n",
    "    # 각 가맹본부의 view_url을 구함.\n",
    "    # view_url은 onclick listener에 있다.\n",
    "    view_url_param = row_tag.find(\"a\")[\"onclick\"].split(\"'\")[1].split(\"?\")[-1]\n",
    "    view_url_param = {\n",
    "        view_url_param.split(\"=\")[0] : view_url_param.split(\"=\")[-1]\n",
    "    }\n",
    "    print(num, view_url_param)\n",
    "\n",
    "    #for td in row_tag.findAll(\"td\") :\n",
    "    #    print(td.text.strip())\n",
    "\n",
    "parseFranchiseTableRow(table_rows[0])"
   ]
  },
  {
   "cell_type": "code",
   "execution_count": 32,
   "metadata": {},
   "outputs": [
    {
     "name": "stdout",
     "output_type": "stream",
     "text": [
      "9473 {'firMstSn': ['442232']}\n"
     ]
    }
   ],
   "source": [
    "from urllib.parse import urlparse, parse_qs\n",
    "\n",
    "def parseFranchiseTableRow(row_tag) :\n",
    "    # list_url 에서 테이블의 행 인덱스\n",
    "    num = row_tag.find(\"td\").text.strip()\n",
    "    # 각 가맹본부의 view_url을 구함.\n",
    "    # view_url은 onclick listener에 있다.\n",
    "\n",
    "\n",
    "    view_url_param = row_tag.find(\"a\")[\"onclick\"].split(\"'\")[1].split(\"?\")[-1]\n",
    "    view_url_param = {\n",
    "        view_url_param.split(\"=\")[0] : view_url_param.split(\"=\")[-1]\n",
    "    }\n",
    "\n",
    "    view_url_param = parse_qs(\n",
    "        urlparse(row_tag.find(\"a\")[\"onclick\"].split(\"'\")[1]).query\n",
    "    )\n",
    "\n",
    "    print(num, view_url_param)\n",
    "\n",
    "    #for td in row_tag.findAll(\"td\") :\n",
    "    #    print(td.text.strip())\n",
    "\n",
    "parseFranchiseTableRow(table_rows[0])"
   ]
  }
 ],
 "metadata": {
  "kernelspec": {
   "display_name": "Python 3 (ipykernel)",
   "language": "python",
   "name": "python3"
  },
  "language_info": {
   "codemirror_mode": {
    "name": "ipython",
    "version": 3
   },
   "file_extension": ".py",
   "mimetype": "text/x-python",
   "name": "python",
   "nbconvert_exporter": "python",
   "pygments_lexer": "ipython3",
   "version": "3.9.12"
  },
  "orig_nbformat": 4
 },
 "nbformat": 4,
 "nbformat_minor": 2
}
