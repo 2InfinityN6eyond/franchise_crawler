{
 "cells": [
  {
   "cell_type": "code",
   "execution_count": 3,
   "metadata": {},
   "outputs": [],
   "source": [
    "#!pip3 install lxml beautifulsoup4 argparse PyMySql pandas numpy"
   ]
  },
  {
   "cell_type": "code",
   "execution_count": 4,
   "metadata": {},
   "outputs": [],
   "source": [
    "#https://franchise.ftc.go.kr/mnu/00013/program/userRqst/list.do?searchCondition=&searchKeyword=&column=brd&selUpjong=21&selIndus=&pageUnit=300&pageIndex=4"
   ]
  },
  {
   "cell_type": "code",
   "execution_count": 5,
   "metadata": {},
   "outputs": [],
   "source": [
    "import requests\n",
    "from bs4 import BeautifulSoup\n",
    "import pandas as pd\n",
    "import threading\n",
    "\n",
    "\n",
    "from pprint import PrettyPrinter\n",
    "pp = PrettyPrinter(indent=4)"
   ]
  },
  {
   "cell_type": "code",
   "execution_count": 6,
   "metadata": {},
   "outputs": [],
   "source": [
    "resp = requests.get(\n",
    "    \"https://franchise.ftc.go.kr/mnu/00013/program/userRqst/list.do\",\n",
    "    params = {\n",
    "        \"searchCondition\" : \"\",\n",
    "        \"searchKeyword\" : \"\",\n",
    "        \"column\" : \"brd\",\n",
    "        \"selUpjong\":\"21\",\n",
    "        \"selIndus\" : \"\",\n",
    "        \"pageUnit\" : \"300\",\n",
    "        \"pageIndex\" : \"4\"\n",
    "    }\n",
    ")"
   ]
  },
  {
   "cell_type": "code",
   "execution_count": 7,
   "metadata": {},
   "outputs": [],
   "source": [
    "#print(resp.content.decode())\n",
    "\n",
    "soup = BeautifulSoup(resp.content, \"lxml\")"
   ]
  },
  {
   "cell_type": "code",
   "execution_count": 9,
   "metadata": {},
   "outputs": [
    {
     "name": "stdout",
     "output_type": "stream",
     "text": [
      "1\n"
     ]
    }
   ],
   "source": [
    "print(len(soup.findAll(\"table\")))"
   ]
  },
  {
   "cell_type": "code",
   "execution_count": 20,
   "metadata": {},
   "outputs": [],
   "source": [
    "html_table = soup.find_all(\"table\")[0]"
   ]
  },
  {
   "cell_type": "code",
   "execution_count": 21,
   "metadata": {},
   "outputs": [
    {
     "data": {
      "text/plain": [
       "bs4.element.Tag"
      ]
     },
     "execution_count": 21,
     "metadata": {},
     "output_type": "execute_result"
    }
   ],
   "source": [
    "type(html_table)"
   ]
  },
  {
   "cell_type": "code",
   "execution_count": 22,
   "metadata": {},
   "outputs": [
    {
     "data": {
      "text/plain": [
       "bs4.BeautifulSoup"
      ]
     },
     "execution_count": 22,
     "metadata": {},
     "output_type": "execute_result"
    }
   ],
   "source": [
    "type(soup)"
   ]
  },
  {
   "cell_type": "code",
   "execution_count": 28,
   "metadata": {},
   "outputs": [
    {
     "name": "stdout",
     "output_type": "stream",
     "text": [
      "301\n",
      "<tr>\n",
      "<td>8573</td>\n",
      "<td>\n",
      "<a class=\"authCtrl\" href=\"javascript:void(0);\" onclick=\"fn_view('/mnu/00013/program/userRqst/view.do?firMstSn=133332');\">(주)호경에프씨</a>\n",
      "</td>\n",
      "<td>\n",
      "<a class=\"authCtrl\" href=\"javascript:void(0);\" onclick=\"fn_view('/mnu/00013/program/userRqst/view.do?firMstSn=133332');\">마이하노이</a>\n",
      "</td>\n",
      "<td>이용재</td>\n",
      "<td>20201764</td>\n",
      "<td>\n",
      "\t\t\t\t\t\n",
      "\t                    \n",
      "\t                    \n",
      "\t                    \n",
      "\t                \n",
      "\t                2020.12.14\t\t\t\t\n",
      "\t\t\t\t</td>\n",
      "<td>기타 외식</td>\n",
      "</tr>\n"
     ]
    }
   ],
   "source": [
    "print(len(html_table.findAll(\"tr\")))\n",
    "pp.pprint(html_table.findAll(\"tr\")[1])"
   ]
  },
  {
   "cell_type": "code",
   "execution_count": 86,
   "metadata": {},
   "outputs": [
    {
     "name": "stdout",
     "output_type": "stream",
     "text": [
      "https://franchise.ftc.go.kr/mnu/00013/program/userRqst/list.do?firMstSn=133332\n",
      "https://franchise.ftc.go.kr/mnu/00013/program/userRqst/view.do?firMstSn=133332\n"
     ]
    }
   ],
   "source": [
    "\n",
    "\n",
    "francise_resp = requests.get(\n",
    "    \"https://franchise.ftc.go.kr/mnu/00013/program/userRqst/list.do\",\n",
    "    params = {\n",
    "        \"firMstSn\" : \"133332\"\n",
    "    }\n",
    ")\n",
    "print(francise_resp.url)\n",
    "\n",
    "francise_resp = requests.get(\n",
    "    \"https://franchise.ftc.go.kr/mnu/00013/program/userRqst/view.do?firMstSn=133332\"\n",
    ")\n",
    "print(francise_resp.url)\n"
   ]
  },
  {
   "cell_type": "code",
   "execution_count": 87,
   "metadata": {},
   "outputs": [],
   "source": [
    "francise_soup = BeautifulSoup(francise_resp.content.strip())"
   ]
  },
  {
   "cell_type": "code",
   "execution_count": 89,
   "metadata": {},
   "outputs": [
    {
     "data": {
      "text/plain": [
       "1"
      ]
     },
     "execution_count": 89,
     "metadata": {},
     "output_type": "execute_result"
    }
   ],
   "source": [
    "len(francise_soup.findAll(\"form\"))"
   ]
  },
  {
   "cell_type": "code",
   "execution_count": 93,
   "metadata": {},
   "outputs": [],
   "source": [
    "form_tag = francise_soup.form\n",
    "\n",
    "box_flop = form_tag.findAll(\"div\", \"box_flop\")\n",
    "\n",
    "curr_state = box_flop[0].table\n",
    "table_rows = curr_state.tbody.findAll(\"tr\")"
   ]
  },
  {
   "cell_type": "code",
   "execution_count": 165,
   "metadata": {},
   "outputs": [
    {
     "data": {
      "text/plain": [
       "bs4.element.Tag"
      ]
     },
     "execution_count": 165,
     "metadata": {},
     "output_type": "execute_result"
    }
   ],
   "source": [
    "type(curr_state)"
   ]
  },
  {
   "cell_type": "code",
   "execution_count": 123,
   "metadata": {},
   "outputs": [
    {
     "name": "stdout",
     "output_type": "stream",
     "text": [
      "상호\n",
      "(주)호경에프씨\n",
      "영업표지\n",
      "마이하노이\n",
      "대표자\n",
      "이용재\n",
      "기타 외식\n",
      "______________\n",
      "______________\n",
      "1999.05.06\n",
      "1999.05.06\n",
      "031  -  987  -  2101\n",
      "031  -  987  -  2107\n",
      "______________\n",
      "______________\n",
      "20201764\n",
      "2020.12.14\n",
      "2022.08.31\n",
      "\n",
      "______________\n"
     ]
    }
   ],
   "source": [
    "for table_row in table_rows :\n",
    "    #print(len(table_row.findAll(\"td\")))\n",
    "    for table_data in table_row.findAll(\"td\") :\n",
    "        value = table_data.text.strip()\n",
    "        print(value.replace(\"\\t\", \"\"))\n",
    "    print(\"______________\")"
   ]
  },
  {
   "cell_type": "code",
   "execution_count": 168,
   "metadata": {},
   "outputs": [
    {
     "data": {
      "text/plain": [
       "['(주)호경에프씨',\n",
       " '마이하노이',\n",
       " ['이용재'],\n",
       " '기타 외식',\n",
       " datetime.datetime(1999, 5, 6, 0, 0),\n",
       " datetime.datetime(1999, 5, 6, 0, 0),\n",
       " '031-987-2101',\n",
       " '031-987-2107',\n",
       " '20201764',\n",
       " datetime.datetime(2020, 12, 14, 0, 0),\n",
       " datetime.datetime(2022, 8, 31, 0, 0)]"
      ]
     },
     "execution_count": 168,
     "metadata": {},
     "output_type": "execute_result"
    }
   ],
   "source": [
    "from dateutil.parser import parse\n",
    "\n",
    "def extractFromTable(table_tag) :\n",
    "    table_rows = table_tag.tbody.findAll(\"tr\")\n",
    "    \n",
    "    business_name, business_sign, representative, business_type = list(map(\n",
    "        lambda table_data : table_data.text.strip().replace(\"\\t\", '').split(\"\\n\")[-1],\n",
    "        table_rows[0].findAll(\"td\")\n",
    "    ))\n",
    "    representative = representative.split(\",\")\n",
    "\n",
    "    corporate_registration_date, business_registration_date, key_number, key_fax_number = list(map(\n",
    "        lambda table_data : table_data.text.strip().replace(\" \", \"\").replace(\"\\xa0\",\"\"),\n",
    "        table_rows[2].findAll(\"td\")\n",
    "    ))\n",
    "    corporate_registration_date = parse(corporate_registration_date)\n",
    "    business_registration_date = parse(business_registration_date)\n",
    "\n",
    "    registration_id, initial_registration_date, final_registration_date, _ = list(map(\n",
    "        lambda table_data : table_data.text.strip(),\n",
    "        table_rows[4].findAll(\"td\")\n",
    "    ))\n",
    "    initial_registration_date = parse(initial_registration_date)\n",
    "    final_registration_date = parse(final_registration_date)\n",
    "\n",
    "    return [\n",
    "        business_name, business_sign, representative, business_type,\n",
    "        corporate_registration_date, business_registration_date, key_number, key_fax_number,\n",
    "        registration_id, initial_registration_date, final_registration_date\n",
    "    ]\n",
    "\n",
    "extractFromTable(curr_state)"
   ]
  },
  {
   "cell_type": "code",
   "execution_count": 160,
   "metadata": {},
   "outputs": [
    {
     "name": "stdout",
     "output_type": "stream",
     "text": [
      "['(주)호경에프씨', '마이하노이', '이용재', '기타 외식']\n",
      "['1999.05.06', '1999.05.06', '031\\xa0-\\xa0987\\xa0-\\xa02101', '031\\xa0-\\xa0987\\xa0-\\xa02107']\n",
      "['20201764', '2020.12.14', '2022.08.31', '']\n"
     ]
    }
   ],
   "source": [
    "def extractFromTable(table_tag) :\n",
    "    rows = table_tag.tbody.findAll(\"tr\")\n",
    "    \n",
    "    l1 = list(map(\n",
    "        lambda table_data : table_data.text.strip().replace(\"\\t\", '').split(\"\\n\")[-1],\n",
    "        rows[0].findAll(\"td\")\n",
    "    ))\n",
    "    l2 = list(map(\n",
    "        lambda table_data : table_data.text.strip().replace(\" \", \"\").replace(\"\\t\",\"\"),\n",
    "        rows[2].findAll(\"td\")\n",
    "    ))\n",
    "\n",
    "    l3 = list(map(\n",
    "        lambda table_data : table_data.text.strip(),\n",
    "        rows[4].findAll(\"td\")\n",
    "    ))\n",
    "\n",
    "    print(l1)\n",
    "    print(l2)\n",
    "    print(l3)\n",
    "\n",
    "extractFromTable(curr_state)"
   ]
  },
  {
   "cell_type": "code",
   "execution_count": 101,
   "metadata": {},
   "outputs": [
    {
     "name": "stdout",
     "output_type": "stream",
     "text": [
      "<label class=\"hidden\" for=\"label01\">상호</label>\n",
      "<label class=\"hidden\" for=\"label02\">영업표지</label>\n",
      "<label class=\"hidden\" for=\"label03\">대표자</label>\n",
      "None\n"
     ]
    }
   ],
   "source": [
    "for table_data in table_rows[0].findAll(\"td\") :\n",
    "    print(table_data"
   ]
  }
 ],
 "metadata": {
  "kernelspec": {
   "display_name": "Python 3 (ipykernel)",
   "language": "python",
   "name": "python3"
  },
  "language_info": {
   "codemirror_mode": {
    "name": "ipython",
    "version": 3
   },
   "file_extension": ".py",
   "mimetype": "text/x-python",
   "name": "python",
   "nbconvert_exporter": "python",
   "pygments_lexer": "ipython3",
   "version": "3.9.12"
  },
  "orig_nbformat": 4,
  "vscode": {
   "interpreter": {
    "hash": "10eb691bccf4257ab2fd488ca240ccf2dbe4f63e86b02aaf0035184014e5e0fd"
   }
  }
 },
 "nbformat": 4,
 "nbformat_minor": 2
}
