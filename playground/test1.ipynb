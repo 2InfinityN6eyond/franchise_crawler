{
 "cells": [
  {
   "cell_type": "code",
   "execution_count": 1,
   "metadata": {},
   "outputs": [],
   "source": [
    "import scrapy"
   ]
  },
  {
   "cell_type": "code",
   "execution_count": 2,
   "metadata": {},
   "outputs": [
    {
     "name": "stdout",
     "output_type": "stream",
     "text": [
      "Requirement already satisfied: requests in /home/hjp/anaconda3/envs/web_crawling/lib/python3.7/site-packages (2.28.1)\n",
      "Requirement already satisfied: certifi>=2017.4.17 in /home/hjp/anaconda3/envs/web_crawling/lib/python3.7/site-packages (from requests) (2022.9.14)\n",
      "Requirement already satisfied: idna<4,>=2.5 in /home/hjp/anaconda3/envs/web_crawling/lib/python3.7/site-packages (from requests) (3.4)\n",
      "Requirement already satisfied: urllib3<1.27,>=1.21.1 in /home/hjp/anaconda3/envs/web_crawling/lib/python3.7/site-packages (from requests) (1.26.12)\n",
      "Requirement already satisfied: charset-normalizer<3,>=2 in /home/hjp/anaconda3/envs/web_crawling/lib/python3.7/site-packages (from requests) (2.1.1)\n"
     ]
    }
   ],
   "source": [
    "https://franchise.ftc.go.kr/mnu/00013/program/userRqst/list.do\n",
    "?searchCondition=&searchKeyword=&column=brd&selUpjong=21&selIndus=&pageUnit=300&pageIndex=4"
   ]
  },
  {
   "cell_type": "code",
   "execution_count": 13,
   "metadata": {},
   "outputs": [],
   "source": [
    "import requests\n",
    "from bs4 import BeautifulSoup\n",
    "\n",
    "\n",
    "resp = requests.get(\n",
    "    \"https://franchise.ftc.go.kr/mnu/00013/program/userRqst/list.do\",\n",
    "    params = {\n",
    "        \"searchCondition\" : \"\",\n",
    "        \"searchKeyword\" : \"\",\n",
    "        \"column\" : \"brd\",\n",
    "        \"selUpjong\":\"21\",\n",
    "        \"selIndus\" : \"\",\n",
    "        \"pageUnit\" : \"300\",\n",
    "        \"pageIndex\" : \"4\"\n",
    "    }\n",
    ")"
   ]
  },
  {
   "cell_type": "code",
   "execution_count": 12,
   "metadata": {},
   "outputs": [
    {
     "name": "stdout",
     "output_type": "stream",
     "text": [
      "https://franchise.ftc.go.kr/mnu/00013/program/userRqst/list.do?searchCondition=&searchKeyword=&column=brd&selUpjong=21&selIndus=&pageUnit=300&pageIndex=4\n"
     ]
    }
   ],
   "source": [
    "#print(resp.content.decode())\n",
    "print(resp.url)"
   ]
  },
  {
   "cell_type": "code",
   "execution_count": null,
   "metadata": {},
   "outputs": [],
   "source": []
  },
  {
   "cell_type": "code",
   "execution_count": null,
   "metadata": {},
   "outputs": [],
   "source": []
  }
 ],
 "metadata": {
  "kernelspec": {
   "display_name": "Python 3 (ipykernel)",
   "language": "python",
   "name": "python3"
  },
  "language_info": {
   "codemirror_mode": {
    "name": "ipython",
    "version": 3
   },
   "file_extension": ".py",
   "mimetype": "text/x-python",
   "name": "python",
   "nbconvert_exporter": "python",
   "pygments_lexer": "ipython3",
   "version": "3.7.13"
  },
  "orig_nbformat": 4,
  "vscode": {
   "interpreter": {
    "hash": "10eb691bccf4257ab2fd488ca240ccf2dbe4f63e86b02aaf0035184014e5e0fd"
   }
  }
 },
 "nbformat": 4,
 "nbformat_minor": 2
}
