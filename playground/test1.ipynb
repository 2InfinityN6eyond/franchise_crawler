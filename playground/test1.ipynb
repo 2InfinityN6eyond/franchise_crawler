{
 "cells": [
  {
   "cell_type": "code",
   "execution_count": 3,
   "metadata": {},
   "outputs": [],
   "source": [
    "#!pip3 install lxml beautifulsoup4 argparse PyMySql pandas numpy"
   ]
  },
  {
   "cell_type": "code",
   "execution_count": 4,
   "metadata": {},
   "outputs": [],
   "source": [
    "#https://franchise.ftc.go.kr/mnu/00013/program/userRqst/list.do?searchCondition=&searchKeyword=&column=brd&selUpjong=21&selIndus=&pageUnit=300&pageIndex=4"
   ]
  },
  {
   "cell_type": "code",
   "execution_count": 5,
   "metadata": {},
   "outputs": [],
   "source": [
    "import requests\n",
    "from bs4 import BeautifulSoup\n",
    "import pandas as pd\n",
    "import threading\n",
    "\n",
    "\n",
    "from pprint import PrettyPrinter\n",
    "pp = PrettyPrinter(indent=4)"
   ]
  },
  {
   "cell_type": "code",
   "execution_count": 6,
   "metadata": {},
   "outputs": [],
   "source": [
    "\n",
    "\n",
    "resp = requests.get(\n",
    "    \"https://franchise.ftc.go.kr/mnu/00013/program/userRqst/list.do\",\n",
    "    params = {\n",
    "        \"searchCondition\" : \"\",\n",
    "        \"searchKeyword\" : \"\",\n",
    "        \"column\" : \"brd\",\n",
    "        \"selUpjong\":\"21\",\n",
    "        \"selIndus\" : \"\",\n",
    "        \"pageUnit\" : \"300\",\n",
    "        \"pageIndex\" : \"4\"\n",
    "    }\n",
    ")"
   ]
  },
  {
   "cell_type": "code",
   "execution_count": 7,
   "metadata": {},
   "outputs": [],
   "source": [
    "#print(resp.content.decode())\n",
    "\n",
    "soup = BeautifulSoup(resp.content, \"lxml\")"
   ]
  },
  {
   "cell_type": "code",
   "execution_count": 9,
   "metadata": {},
   "outputs": [
    {
     "name": "stdout",
     "output_type": "stream",
     "text": [
      "1\n"
     ]
    }
   ],
   "source": [
    "print(len(soup.findAll(\"table\")))"
   ]
  },
  {
   "cell_type": "code",
   "execution_count": 20,
   "metadata": {},
   "outputs": [],
   "source": [
    "html_table = soup.find_all(\"table\")[0]"
   ]
  },
  {
   "cell_type": "code",
   "execution_count": 21,
   "metadata": {},
   "outputs": [
    {
     "data": {
      "text/plain": [
       "bs4.element.Tag"
      ]
     },
     "execution_count": 21,
     "metadata": {},
     "output_type": "execute_result"
    }
   ],
   "source": [
    "type(html_table)"
   ]
  },
  {
   "cell_type": "code",
   "execution_count": 22,
   "metadata": {},
   "outputs": [
    {
     "data": {
      "text/plain": [
       "bs4.BeautifulSoup"
      ]
     },
     "execution_count": 22,
     "metadata": {},
     "output_type": "execute_result"
    }
   ],
   "source": [
    "type(soup)"
   ]
  },
  {
   "cell_type": "code",
   "execution_count": 28,
   "metadata": {},
   "outputs": [
    {
     "name": "stdout",
     "output_type": "stream",
     "text": [
      "301\n",
      "<tr>\n",
      "<td>8573</td>\n",
      "<td>\n",
      "<a class=\"authCtrl\" href=\"javascript:void(0);\" onclick=\"fn_view('/mnu/00013/program/userRqst/view.do?firMstSn=133332');\">(주)호경에프씨</a>\n",
      "</td>\n",
      "<td>\n",
      "<a class=\"authCtrl\" href=\"javascript:void(0);\" onclick=\"fn_view('/mnu/00013/program/userRqst/view.do?firMstSn=133332');\">마이하노이</a>\n",
      "</td>\n",
      "<td>이용재</td>\n",
      "<td>20201764</td>\n",
      "<td>\n",
      "\t\t\t\t\t\n",
      "\t                    \n",
      "\t                    \n",
      "\t                    \n",
      "\t                \n",
      "\t                2020.12.14\t\t\t\t\n",
      "\t\t\t\t</td>\n",
      "<td>기타 외식</td>\n",
      "</tr>\n"
     ]
    }
   ],
   "source": [
    "print(len(html_table.findAll(\"tr\")))\n",
    "pp.pprint(html_table.findAll(\"tr\")[1])"
   ]
  },
  {
   "cell_type": "code",
   "execution_count": 86,
   "metadata": {},
   "outputs": [
    {
     "name": "stdout",
     "output_type": "stream",
     "text": [
      "https://franchise.ftc.go.kr/mnu/00013/program/userRqst/list.do?firMstSn=133332\n",
      "https://franchise.ftc.go.kr/mnu/00013/program/userRqst/view.do?firMstSn=133332\n"
     ]
    }
   ],
   "source": [
    "\n",
    "\n",
    "francise_resp = requests.get(\n",
    "    \"https://franchise.ftc.go.kr/mnu/00013/program/userRqst/list.do\",\n",
    "    params = {\n",
    "        \"firMstSn\" : \"133332\"\n",
    "    }\n",
    ")\n",
    "print(francise_resp.url)\n",
    "\n",
    "francise_resp = requests.get(\n",
    "    \"https://franchise.ftc.go.kr/mnu/00013/program/userRqst/view.do?firMstSn=133332\"\n",
    ")\n",
    "print(francise_resp.url)\n"
   ]
  },
  {
   "cell_type": "code",
   "execution_count": 87,
   "metadata": {},
   "outputs": [],
   "source": [
    "francise_soup = BeautifulSoup(francise_resp.content.strip())"
   ]
  },
  {
   "cell_type": "code",
   "execution_count": 89,
   "metadata": {},
   "outputs": [
    {
     "data": {
      "text/plain": [
       "1"
      ]
     },
     "execution_count": 89,
     "metadata": {},
     "output_type": "execute_result"
    }
   ],
   "source": [
    "len(francise_soup.findAll(\"form\"))"
   ]
  },
  {
   "cell_type": "code",
   "execution_count": 93,
   "metadata": {},
   "outputs": [],
   "source": [
    "form_tag = francise_soup.form\n",
    "\n",
    "box_flop = form_tag.findAll(\"div\", \"box_flop\")\n",
    "\n",
    "curr_state = box_flop[0].table\n",
    "table_rows = curr_state.tbody.findAll(\"tr\")"
   ]
  },
  {
   "cell_type": "code",
   "execution_count": 165,
   "metadata": {},
   "outputs": [
    {
     "data": {
      "text/plain": [
       "bs4.element.Tag"
      ]
     },
     "execution_count": 165,
     "metadata": {},
     "output_type": "execute_result"
    }
   ],
   "source": [
    "type(curr_state)"
   ]
  },
  {
   "cell_type": "code",
   "execution_count": 123,
   "metadata": {},
   "outputs": [
    {
     "name": "stdout",
     "output_type": "stream",
     "text": [
      "상호\n",
      "(주)호경에프씨\n",
      "영업표지\n",
      "마이하노이\n",
      "대표자\n",
      "이용재\n",
      "기타 외식\n",
      "______________\n",
      "______________\n",
      "1999.05.06\n",
      "1999.05.06\n",
      "031  -  987  -  2101\n",
      "031  -  987  -  2107\n",
      "______________\n",
      "______________\n",
      "20201764\n",
      "2020.12.14\n",
      "2022.08.31\n",
      "\n",
      "______________\n"
     ]
    }
   ],
   "source": [
    "for table_row in table_rows :\n",
    "    #print(len(table_row.findAll(\"td\")))\n",
    "    for table_data in table_row.findAll(\"td\") :\n",
    "        value = table_data.text.strip()\n",
    "        print(value.replace(\"\\t\", \"\"))\n",
    "    print(\"______________\")"
   ]
  },
  {
   "cell_type": "code",
   "execution_count": 168,
   "metadata": {},
   "outputs": [
    {
     "data": {
      "text/plain": [
       "['(주)호경에프씨',\n",
       " '마이하노이',\n",
       " ['이용재'],\n",
       " '기타 외식',\n",
       " datetime.datetime(1999, 5, 6, 0, 0),\n",
       " datetime.datetime(1999, 5, 6, 0, 0),\n",
       " '031-987-2101',\n",
       " '031-987-2107',\n",
       " '20201764',\n",
       " datetime.datetime(2020, 12, 14, 0, 0),\n",
       " datetime.datetime(2022, 8, 31, 0, 0)]"
      ]
     },
     "execution_count": 168,
     "metadata": {},
     "output_type": "execute_result"
    }
   ],
   "source": [
    "from dateutil.parser import parse\n",
    "\n",
    "def extractFromTable(table_tag) :\n",
    "    table_rows = table_tag.tbody.findAll(\"tr\")\n",
    "    \n",
    "    business_name, business_sign, representative, business_type = list(map(\n",
    "        lambda table_data : table_data.text.strip().replace(\"\\t\", '').split(\"\\n\")[-1],\n",
    "        table_rows[0].findAll(\"td\")\n",
    "    ))\n",
    "    representative = representative.split(\",\")\n",
    "\n",
    "    corporate_registration_date, business_registration_date, key_number, key_fax_number = list(map(\n",
    "        lambda table_data : table_data.text.strip().replace(\" \", \"\").replace(\"\\xa0\",\"\"),\n",
    "        table_rows[2].findAll(\"td\")\n",
    "    ))\n",
    "    corporate_registration_date = parse(corporate_registration_date)\n",
    "    business_registration_date = parse(business_registration_date)\n",
    "\n",
    "    registration_id, initial_registration_date, final_registration_date, _ = list(map(\n",
    "        lambda table_data : table_data.text.strip(),\n",
    "        table_rows[4].findAll(\"td\")\n",
    "    ))\n",
    "    initial_registration_date = parse(initial_registration_date)\n",
    "    final_registration_date = parse(final_registration_date)\n",
    "\n",
    "    return [\n",
    "        business_name, business_sign, representative, business_type,\n",
    "        corporate_registration_date, business_registration_date, key_number, key_fax_number,\n",
    "        registration_id, initial_registration_date, final_registration_date\n",
    "    ]\n",
    "\n",
    "extractFromTable(curr_state)"
   ]
  },
  {
   "cell_type": "code",
   "execution_count": 160,
   "metadata": {},
   "outputs": [
    {
     "name": "stdout",
     "output_type": "stream",
     "text": [
      "['(주)호경에프씨', '마이하노이', '이용재', '기타 외식']\n",
      "['1999.05.06', '1999.05.06', '031\\xa0-\\xa0987\\xa0-\\xa02101', '031\\xa0-\\xa0987\\xa0-\\xa02107']\n",
      "['20201764', '2020.12.14', '2022.08.31', '']\n"
     ]
    }
   ],
   "source": [
    "def extractFromTable(table_tag) :\n",
    "    rows = table_tag.tbody.findAll(\"tr\")\n",
    "    \n",
    "    l1 = list(map(\n",
    "        lambda table_data : table_data.text.strip().replace(\"\\t\", '').split(\"\\n\")[-1],\n",
    "        rows[0].findAll(\"td\")\n",
    "    ))\n",
    "    l2 = list(map(\n",
    "        lambda table_data : table_data.text.strip().replace(\" \", \"\").replace(\"\\t\",\"\"),\n",
    "        rows[2].findAll(\"td\")\n",
    "    ))\n",
    "\n",
    "    l3 = list(map(\n",
    "        lambda table_data : table_data.text.strip(),\n",
    "        rows[4].findAll(\"td\")\n",
    "    ))\n",
    "\n",
    "    print(l1)\n",
    "    print(l2)\n",
    "    print(l3)\n",
    "\n",
    "extractFromTable(curr_state)"
   ]
  },
  {
   "cell_type": "code",
   "execution_count": 101,
   "metadata": {},
   "outputs": [
    {
     "name": "stdout",
     "output_type": "stream",
     "text": [
      "<label class=\"hidden\" for=\"label01\">상호</label>\n",
      "<label class=\"hidden\" for=\"label02\">영업표지</label>\n",
      "<label class=\"hidden\" for=\"label03\">대표자</label>\n",
      "None\n"
     ]
    }
   ],
   "source": [
    "for table_data in table_rows[0].findAll(\"td\") :\n",
    "    print(table_data"
   ]
  },
  {
   "cell_type": "code",
   "execution_count": 26,
   "metadata": {},
   "outputs": [
    {
     "data": {
      "text/plain": [
       "<form action=\"/mnu/00013/program/userRqst/list.do\" id=\"frm\" method=\"post\" name=\"frm\">\n",
       "<div class=\"point_box mb35\" style=\"padding:25px;\">\n",
       "<fieldset>\n",
       "<label class=\"ml10\" for=\"column\">검색조건 선택</label>\n",
       "<select class=\"sch-select\" id=\"column\" name=\"column\" title=\"검색조건 선택\">\n",
       "<option value=\"brd\">영업표지</option>\n",
       "<option value=\"tNm\">상호</option>\n",
       "<option value=\"ceoNm\">대표자명</option>\n",
       "<option value=\"firRegNo\">등록번호</option>\n",
       "</select>\n",
       "<input id=\"searchKeyword\" name=\"searchKeyword\" style=\"min-width:120px !important; width:90px;\" title=\"검색어를 입력하세요.\" type=\"text\" value=\"\"/>\n",
       "<label class=\"ml10\" for=\"selUpjong\">업종</label>\n",
       "<select class=\"mr5\" id=\"selUpjong\" name=\"selUpjong\" onchange=\"changeUpjong()\" style=\"width: 90px;\" title=\"업종 대분류\">\n",
       "<option value=\"\">대분류</option>\n",
       "<option value=\"21\">외식</option>\n",
       "<option value=\"22\">도소매</option>\n",
       "<option value=\"23\">서비스</option>\n",
       "</select>\n",
       "<select class=\"mr5\" id=\"selIndus\" name=\"selIndus\" style=\"width: 90px;\" title=\"업종 중분류\">\n",
       "<option value=\"\">중분류</option>\n",
       "</select>\n",
       "<input alt=\"검색\" onclick=\"searchFrm()\" src=\"/template/site/00001/images/sub/popup_btn_search.png\" type=\"image\"/>\n",
       "</fieldset>\n",
       "</div>\n",
       "<div class=\"table_infbox\">\n",
       "<p>※ 2022.10.08 (현재일) 기준 </p>\n",
       "<div class=\"page_select_box\">\n",
       "<select class=\"sch-select\" id=\"pageUnit\" name=\"pageUnit\" title=\"게시글 갯수 선택\">\n",
       "<option selected=\"\" value=\"10\">10</option>\n",
       "<option value=\"25\">25</option>\n",
       "<option value=\"50\">50</option>\n",
       "<option value=\"100\">100</option>\n",
       "<option value=\"150\">150</option>\n",
       "<option value=\"300\">300</option>\n",
       "</select>\n",
       "<a class=\"apply_btn\" href=\"javascript:void(0);\" onclick=\"searchFrm()\">적용</a>\n",
       "</div>\n",
       "</div>\n",
       "<table class=\"table\">\n",
       "<caption>정보공개서 표로 번호, 상호, 영업표지, 대표자, 등록번호, 업종 등이 포함되어 있습니다.</caption>\n",
       "<colgroup>\n",
       "<col class=\"\" style=\"width:8%;\"/>\n",
       "<col class=\"\" style=\"width:auto\"/>\n",
       "<col class=\"\" style=\"width:18%;\"/>\n",
       "<col class=\"\" style=\"width:12%;\"/>\n",
       "<col class=\"\" style=\"width:12%;\"/>\n",
       "<col class=\"\" style=\"width:10%;\"/>\n",
       "<col class=\"\" style=\"width:12%;\"/>\n",
       "</colgroup>\n",
       "<thead>\n",
       "<tr>\n",
       "<th class=\"noborder\" scope=\"col\">번호</th>\n",
       "<th scope=\"col\">상호</th>\n",
       "<th scope=\"col\">영업표지</th>\n",
       "<th scope=\"col\">대표자</th>\n",
       "<th scope=\"col\">등록번호</th>\n",
       "<th scope=\"col\">최초등록일</th>\n",
       "<th scope=\"col\">업종</th>\n",
       "</tr>\n",
       "</thead>\n",
       "<tbody>\n",
       "<tr>\n",
       "<td>11858</td>\n",
       "<td>\n",
       "<a class=\"authCtrl\" href=\"javascript:void(0);\" onclick=\"fn_view('/mnu/00013/program/userRqst/view.do?firMstSn=442232');\">료코</a>\n",
       "</td>\n",
       "<td>\n",
       "<a class=\"authCtrl\" href=\"javascript:void(0);\" onclick=\"fn_view('/mnu/00013/program/userRqst/view.do?firMstSn=442232');\">료코(RYOKO)</a>\n",
       "</td>\n",
       "<td>임택현</td>\n",
       "<td>20221050</td>\n",
       "<td>\n",
       "\t\t\t\t\t\n",
       "\t                    \n",
       "\t                    \n",
       "\t                    \n",
       "\t                \n",
       "\t                2022.10.07\t\t\t\t\n",
       "\t\t\t\t</td>\n",
       "<td>일식</td>\n",
       "</tr>\n",
       "<tr>\n",
       "<td>11857</td>\n",
       "<td>\n",
       "<a class=\"authCtrl\" href=\"javascript:void(0);\" onclick=\"fn_view('/mnu/00013/program/userRqst/view.do?firMstSn=441050');\">작두집연탄구이</a>\n",
       "</td>\n",
       "<td>\n",
       "<a class=\"authCtrl\" href=\"javascript:void(0);\" onclick=\"fn_view('/mnu/00013/program/userRqst/view.do?firMstSn=441050');\">작두집 연탄구이</a>\n",
       "</td>\n",
       "<td>권오경</td>\n",
       "<td>20221052</td>\n",
       "<td>\n",
       "\t\t\t\t\t\n",
       "\t                    \n",
       "\t                    \n",
       "\t                    \n",
       "\t                \n",
       "\t                2022.10.07\t\t\t\t\n",
       "\t\t\t\t</td>\n",
       "<td>한식</td>\n",
       "</tr>\n",
       "<tr>\n",
       "<td>11856</td>\n",
       "<td>\n",
       "<a class=\"authCtrl\" href=\"javascript:void(0);\" onclick=\"fn_view('/mnu/00013/program/userRqst/view.do?firMstSn=437292');\">(주)꽃이피다</a>\n",
       "</td>\n",
       "<td>\n",
       "<a class=\"authCtrl\" href=\"javascript:void(0);\" onclick=\"fn_view('/mnu/00013/program/userRqst/view.do?firMstSn=437292');\">카페 꽃이피다</a>\n",
       "</td>\n",
       "<td>김문환</td>\n",
       "<td>20200374</td>\n",
       "<td>\n",
       "\t\t\t\t\t\n",
       "\t                    \n",
       "\t                    \n",
       "\t                    \n",
       "\t                \n",
       "\t                2020.03.13\t\t\t\t\n",
       "\t\t\t\t</td>\n",
       "<td>커피</td>\n",
       "</tr>\n",
       "<tr>\n",
       "<td>11855</td>\n",
       "<td>\n",
       "<a class=\"authCtrl\" href=\"javascript:void(0);\" onclick=\"fn_view('/mnu/00013/program/userRqst/view.do?firMstSn=437242');\">(주)미투푸드시스템</a>\n",
       "</td>\n",
       "<td>\n",
       "<a class=\"authCtrl\" href=\"javascript:void(0);\" onclick=\"fn_view('/mnu/00013/program/userRqst/view.do?firMstSn=437242');\">천두호의 미미짬뽕</a>\n",
       "</td>\n",
       "<td>천두호</td>\n",
       "<td>20160613</td>\n",
       "<td>\n",
       "\t\t\t\t\t\n",
       "\t                    \n",
       "\t                    \n",
       "\t                    \n",
       "\t                \n",
       "\t                2016.04.22\t\t\t\t\n",
       "\t\t\t\t</td>\n",
       "<td>중식</td>\n",
       "</tr>\n",
       "<tr>\n",
       "<td>11854</td>\n",
       "<td>\n",
       "<a class=\"authCtrl\" href=\"javascript:void(0);\" onclick=\"fn_view('/mnu/00013/program/userRqst/view.do?firMstSn=437080');\">제이엔디(JND)</a>\n",
       "</td>\n",
       "<td>\n",
       "<a class=\"authCtrl\" href=\"javascript:void(0);\" onclick=\"fn_view('/mnu/00013/program/userRqst/view.do?firMstSn=437080');\">호랭이 돈까스</a>\n",
       "</td>\n",
       "<td>김다일</td>\n",
       "<td>20210855</td>\n",
       "<td>\n",
       "\t\t\t\t\t\n",
       "\t                    \n",
       "\t                    \n",
       "\t                    \n",
       "\t                \n",
       "\t                2021.03.24\t\t\t\t\n",
       "\t\t\t\t</td>\n",
       "<td>한식</td>\n",
       "</tr>\n",
       "<tr>\n",
       "<td>11853</td>\n",
       "<td>\n",
       "<a class=\"authCtrl\" href=\"javascript:void(0);\" onclick=\"fn_view('/mnu/00013/program/userRqst/view.do?firMstSn=436902');\">52푸드</a>\n",
       "</td>\n",
       "<td>\n",
       "<a class=\"authCtrl\" href=\"javascript:void(0);\" onclick=\"fn_view('/mnu/00013/program/userRqst/view.do?firMstSn=436902');\">52통 오리날개튀김</a>\n",
       "</td>\n",
       "<td>박근언</td>\n",
       "<td>20215870</td>\n",
       "<td>\n",
       "\t\t\t\t\t\n",
       "\t                    \n",
       "\t                    \n",
       "\t                    \n",
       "\t                \n",
       "\t                2021.12.31\t\t\t\t\n",
       "\t\t\t\t</td>\n",
       "<td>기타 외식</td>\n",
       "</tr>\n",
       "<tr>\n",
       "<td>11852</td>\n",
       "<td>\n",
       "<a class=\"authCtrl\" href=\"javascript:void(0);\" onclick=\"fn_view('/mnu/00013/program/userRqst/view.do?firMstSn=435224');\">(주)레프트뱅크</a>\n",
       "</td>\n",
       "<td>\n",
       "<a class=\"authCtrl\" href=\"javascript:void(0);\" onclick=\"fn_view('/mnu/00013/program/userRqst/view.do?firMstSn=435224');\">레프트뱅크</a>\n",
       "</td>\n",
       "<td>엄지연</td>\n",
       "<td>20212372</td>\n",
       "<td>\n",
       "\t\t\t\t\t\n",
       "\t                    \n",
       "\t                    \n",
       "\t                    \n",
       "\t                \n",
       "\t                2021.10.05\t\t\t\t\n",
       "\t\t\t\t</td>\n",
       "<td>음료 (커피 외)</td>\n",
       "</tr>\n",
       "<tr>\n",
       "<td>11851</td>\n",
       "<td>\n",
       "<a class=\"authCtrl\" href=\"javascript:void(0);\" onclick=\"fn_view('/mnu/00013/program/userRqst/view.do?firMstSn=432676');\">(주)포파코</a>\n",
       "</td>\n",
       "<td>\n",
       "<a class=\"authCtrl\" href=\"javascript:void(0);\" onclick=\"fn_view('/mnu/00013/program/userRqst/view.do?firMstSn=432676');\">폴리파크</a>\n",
       "</td>\n",
       "<td>이용석</td>\n",
       "<td>20120600062</td>\n",
       "<td>\n",
       "\t\t\t\t\t\n",
       "\t                    \n",
       "\t                    \n",
       "\t                    \n",
       "\t                \n",
       "\t                2012.10.17\t\t\t\t\n",
       "\t\t\t\t</td>\n",
       "<td>반려동물 관련</td>\n",
       "</tr>\n",
       "<tr>\n",
       "<td>11850</td>\n",
       "<td>\n",
       "<a class=\"authCtrl\" href=\"javascript:void(0);\" onclick=\"fn_view('/mnu/00013/program/userRqst/view.do?firMstSn=430460');\">똥집이야기</a>\n",
       "</td>\n",
       "<td>\n",
       "<a class=\"authCtrl\" href=\"javascript:void(0);\" onclick=\"fn_view('/mnu/00013/program/userRqst/view.do?firMstSn=430460');\">똥집이야기</a>\n",
       "</td>\n",
       "<td>김동기</td>\n",
       "<td>20201641</td>\n",
       "<td>\n",
       "\t\t\t\t\t\n",
       "\t                    \n",
       "\t                    \n",
       "\t                    \n",
       "\t                \n",
       "\t                2020.12.02\t\t\t\t\n",
       "\t\t\t\t</td>\n",
       "<td>한식</td>\n",
       "</tr>\n",
       "<tr>\n",
       "<td>11849</td>\n",
       "<td>\n",
       "<a class=\"authCtrl\" href=\"javascript:void(0);\" onclick=\"fn_view('/mnu/00013/program/userRqst/view.do?firMstSn=142304');\">탕화컴퍼니</a>\n",
       "</td>\n",
       "<td>\n",
       "<a class=\"authCtrl\" href=\"javascript:void(0);\" onclick=\"fn_view('/mnu/00013/program/userRqst/view.do?firMstSn=142304');\">탕화공방</a>\n",
       "</td>\n",
       "<td>조홍매</td>\n",
       "<td>20221051</td>\n",
       "<td>\n",
       "\t\t\t\t\t\n",
       "\t                    \n",
       "\t                    \n",
       "\t                    \n",
       "\t                \n",
       "\t                2022.10.07\t\t\t\t\n",
       "\t\t\t\t</td>\n",
       "<td>기타 외국식</td>\n",
       "</tr>\n",
       "</tbody>\n",
       "</table>\n",
       "<div class=\"seedbbs_pagination\">\n",
       "<div class=\"seed_cf\">\n",
       "<ul class=\"paginationList\">\n",
       "<li class=\"paginationFirst\"><a class=\"pagination arrow_prev\" href=\"/mnu/00013/program/userRqst/list.do?searchCondition=&amp;searchKeyword=&amp;column=&amp;selUpjong=&amp;selIndus=&amp;pageUnit=10&amp;pageIndex=1\" title=\"처음 목록으로 이동\">&lt;&lt;</a></li><li class=\"paginationPrev\"><a class=\"pagination arrow_prev\" href=\"/mnu/00013/program/userRqst/list.do?searchCondition=&amp;searchKeyword=&amp;column=&amp;selUpjong=&amp;selIndus=&amp;pageUnit=10&amp;pageIndex=1\" title=\"이전 목록으로 이동\">&lt;</a></li><li><a class=\"btn_chk\" style=\"font-weight:bold;\">1</a></li><li><a href=\"/mnu/00013/program/userRqst/list.do?searchCondition=&amp;searchKeyword=&amp;column=&amp;selUpjong=&amp;selIndus=&amp;pageUnit=10&amp;pageIndex=2\" title=\"2페이지로 이동\">2</a></li><li><a href=\"/mnu/00013/program/userRqst/list.do?searchCondition=&amp;searchKeyword=&amp;column=&amp;selUpjong=&amp;selIndus=&amp;pageUnit=10&amp;pageIndex=3\" title=\"3페이지로 이동\">3</a></li><li><a href=\"/mnu/00013/program/userRqst/list.do?searchCondition=&amp;searchKeyword=&amp;column=&amp;selUpjong=&amp;selIndus=&amp;pageUnit=10&amp;pageIndex=4\" title=\"4페이지로 이동\">4</a></li><li><a href=\"/mnu/00013/program/userRqst/list.do?searchCondition=&amp;searchKeyword=&amp;column=&amp;selUpjong=&amp;selIndus=&amp;pageUnit=10&amp;pageIndex=5\" title=\"5페이지로 이동\">5</a></li><li><a href=\"/mnu/00013/program/userRqst/list.do?searchCondition=&amp;searchKeyword=&amp;column=&amp;selUpjong=&amp;selIndus=&amp;pageUnit=10&amp;pageIndex=6\" title=\"6페이지로 이동\">6</a></li><li><a href=\"/mnu/00013/program/userRqst/list.do?searchCondition=&amp;searchKeyword=&amp;column=&amp;selUpjong=&amp;selIndus=&amp;pageUnit=10&amp;pageIndex=7\" title=\"7페이지로 이동\">7</a></li><li><a href=\"/mnu/00013/program/userRqst/list.do?searchCondition=&amp;searchKeyword=&amp;column=&amp;selUpjong=&amp;selIndus=&amp;pageUnit=10&amp;pageIndex=8\" title=\"8페이지로 이동\">8</a></li><li><a href=\"/mnu/00013/program/userRqst/list.do?searchCondition=&amp;searchKeyword=&amp;column=&amp;selUpjong=&amp;selIndus=&amp;pageUnit=10&amp;pageIndex=9\" title=\"9페이지로 이동\">9</a></li><li><a href=\"/mnu/00013/program/userRqst/list.do?searchCondition=&amp;searchKeyword=&amp;column=&amp;selUpjong=&amp;selIndus=&amp;pageUnit=10&amp;pageIndex=10\" title=\"10페이지로 이동\">10</a></li><li class=\"paginationNext\"><a class=\"pagination arrow_next\" href=\"/mnu/00013/program/userRqst/list.do?searchCondition=&amp;searchKeyword=&amp;column=&amp;selUpjong=&amp;selIndus=&amp;pageUnit=10&amp;pageIndex=11\" title=\"다음 목록으로 이동\">&gt;</a></li><li class=\"paginationLast\"><a class=\"pagination arrow_next\" href=\"/mnu/00013/program/userRqst/list.do?searchCondition=&amp;searchKeyword=&amp;column=&amp;selUpjong=&amp;selIndus=&amp;pageUnit=10&amp;pageIndex=1186\" title=\"마지막 목록으로 이동\">&gt;&gt;</a></li>\n",
       "</ul>\n",
       "</div>\n",
       "</div>\n",
       "</form>"
      ]
     },
     "execution_count": 26,
     "metadata": {},
     "output_type": "execute_result"
    }
   ],
   "source": [
    "form_tag"
   ]
  }
 ],
 "metadata": {
  "kernelspec": {
   "display_name": "Python 3 (ipykernel)",
   "language": "python",
   "name": "python3"
  },
  "language_info": {
   "codemirror_mode": {
    "name": "ipython",
    "version": 3
   },
   "file_extension": ".py",
   "mimetype": "text/x-python",
   "name": "python",
   "nbconvert_exporter": "python",
   "pygments_lexer": "ipython3",
   "version": "3.9.12"
  },
  "orig_nbformat": 4,
  "vscode": {
   "interpreter": {
    "hash": "10eb691bccf4257ab2fd488ca240ccf2dbe4f63e86b02aaf0035184014e5e0fd"
   }
  }
 },
 "nbformat": 4,
 "nbformat_minor": 2
}
