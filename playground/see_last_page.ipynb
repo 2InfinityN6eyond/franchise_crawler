{
 "cells": [
  {
   "cell_type": "code",
   "execution_count": 2,
   "metadata": {},
   "outputs": [],
   "source": [
    "import requests\n",
    "from bs4 import BeautifulSoup\n",
    "\n",
    "\n",
    "# 한 페이지에 200개 데이터가 나오도록 설정하고, 48번째 페이지까지는 데이터가 있음 (2022.10.11)\n",
    "last_list_url = \"https://franchise.ftc.go.kr/mnu/00013/program/userRqst/list.do?searchCondition=&searchKeyword=&column=brd&selUpjong=21&selIndus=&pageUnit=200&pageIndex=48\"\n",
    "# 49번째 페이지에는 데이터가 없음.\n",
    "no_data_url = \"https://franchise.ftc.go.kr/mnu/00013/program/userRqst/list.do?searchCondition=&searchKeyword=&column=brd&selUpjong=21&selIndus=&pageUnit=200&pageIndex=49\""
   ]
  },
  {
   "cell_type": "code",
   "execution_count": 3,
   "metadata": {},
   "outputs": [],
   "source": [
    "last_list_url_resp = requests.get(last_list_url)\n",
    "no_data_url_resp = requests.get(no_data_url)\n",
    "\n",
    "last_list_soup = BeautifulSoup(last_list_url_resp.text.strip(), \"lxml\")\n",
    "no_data_soup = BeautifulSoup(no_data_url_resp.text.strip(), \"lxml\")\n"
   ]
  },
  {
   "cell_type": "code",
   "execution_count": 5,
   "metadata": {},
   "outputs": [
    {
     "name": "stdout",
     "output_type": "stream",
     "text": [
      "[]\n",
      "[<div class=\"emptyNote\"><p>등록된 목록이 없습니다.</p></div>]\n"
     ]
    }
   ],
   "source": [
    "print(last_list_soup.findAll(\"div\", \"emptyNote\"))\n",
    "\n",
    "# 데이터가 없다는 태그가 있음.\n",
    "print(no_data_soup.findAll(\"div\", \"emptyNote\"))"
   ]
  },
  {
   "cell_type": "code",
   "execution_count": 7,
   "metadata": {},
   "outputs": [
    {
     "name": "stdout",
     "output_type": "stream",
     "text": [
      "1\n",
      "1\n"
     ]
    }
   ],
   "source": [
    "print(len(last_list_soup.findAll(\"table\")))\n",
    "print(len(no_data_soup.findAll(\"table\")))"
   ]
  },
  {
   "cell_type": "code",
   "execution_count": 8,
   "metadata": {},
   "outputs": [
    {
     "name": "stdout",
     "output_type": "stream",
     "text": [
      "73\n",
      "0\n"
     ]
    }
   ],
   "source": [
    "print(len(last_list_soup.table.tbody.findAll(\"tr\")))\n",
    "print(len(  no_data_soup.table.tbody.findAll(\"tr\")))"
   ]
  },
  {
   "cell_type": "code",
   "execution_count": null,
   "metadata": {},
   "outputs": [],
   "source": []
  }
 ],
 "metadata": {
  "kernelspec": {
   "display_name": "Python 3.9.12 ('base')",
   "language": "python",
   "name": "python3"
  },
  "language_info": {
   "codemirror_mode": {
    "name": "ipython",
    "version": 3
   },
   "file_extension": ".py",
   "mimetype": "text/x-python",
   "name": "python",
   "nbconvert_exporter": "python",
   "pygments_lexer": "ipython3",
   "version": "3.9.12"
  },
  "orig_nbformat": 4,
  "vscode": {
   "interpreter": {
    "hash": "10eb691bccf4257ab2fd488ca240ccf2dbe4f63e86b02aaf0035184014e5e0fd"
   }
  }
 },
 "nbformat": 4,
 "nbformat_minor": 2
}
