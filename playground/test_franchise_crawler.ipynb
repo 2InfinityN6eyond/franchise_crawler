{
 "cells": [
  {
   "cell_type": "code",
   "execution_count": 1,
   "metadata": {},
   "outputs": [
    {
     "name": "stdout",
     "output_type": "stream",
     "text": [
      "what\n"
     ]
    }
   ],
   "source": [
    "import requests\n",
    "from bs4 import BeautifulSoup\n",
    "import pandas as pd\n",
    "import threading\n",
    "\n",
    "\n",
    "from pprint import PrettyPrinter\n",
    "pp = PrettyPrinter(indent=4)\n",
    "\n",
    "from scripts.franchise import Franchise\n",
    "from scripts.franchise_data_fetcher import FranchiseDataProvideSystemCrawler"
   ]
  },
  {
   "cell_type": "code",
   "execution_count": 2,
   "metadata": {},
   "outputs": [],
   "source": [
    "crawler = FranchiseDataProvideSystemCrawler()"
   ]
  },
  {
   "cell_type": "code",
   "execution_count": 5,
   "metadata": {},
   "outputs": [
    {
     "ename": "AttributeError",
     "evalue": "'NoneType' object has no attribute 'find'",
     "output_type": "error",
     "traceback": [
      "\u001b[0;31m---------------------------------------------------------------------------\u001b[0m",
      "\u001b[0;31mAttributeError\u001b[0m                            Traceback (most recent call last)",
      "\u001b[1;32mc:\\Users\\hjp\\HJP\\projs\\no_name_yet\\playground\\test_franchise_crawler.ipynb 셀 3\u001b[0m in \u001b[0;36m<cell line: 1>\u001b[0;34m()\u001b[0m\n\u001b[0;32m----> <a href='vscode-notebook-cell:/c%3A/Users/hjp/HJP/projs/no_name_yet/playground/test_franchise_crawler.ipynb#W3sZmlsZQ%3D%3D?line=0'>1</a>\u001b[0m \u001b[39mawait\u001b[39;00m crawler\u001b[39m.\u001b[39mfetchFranchiseList(\n\u001b[1;32m      <a href='vscode-notebook-cell:/c%3A/Users/hjp/HJP/projs/no_name_yet/playground/test_franchise_crawler.ipynb#W3sZmlsZQ%3D%3D?line=1'>2</a>\u001b[0m     params \u001b[39m=\u001b[39m {\n\u001b[1;32m      <a href='vscode-notebook-cell:/c%3A/Users/hjp/HJP/projs/no_name_yet/playground/test_franchise_crawler.ipynb#W3sZmlsZQ%3D%3D?line=2'>3</a>\u001b[0m         \u001b[39m\"\u001b[39m\u001b[39msearchCondition\u001b[39m\u001b[39m\"\u001b[39m : \u001b[39m\"\u001b[39m\u001b[39m\"\u001b[39m,\n\u001b[1;32m      <a href='vscode-notebook-cell:/c%3A/Users/hjp/HJP/projs/no_name_yet/playground/test_franchise_crawler.ipynb#W3sZmlsZQ%3D%3D?line=3'>4</a>\u001b[0m         \u001b[39m\"\u001b[39m\u001b[39msearchKeyword\u001b[39m\u001b[39m\"\u001b[39m : \u001b[39m\"\u001b[39m\u001b[39m\"\u001b[39m,\n\u001b[1;32m      <a href='vscode-notebook-cell:/c%3A/Users/hjp/HJP/projs/no_name_yet/playground/test_franchise_crawler.ipynb#W3sZmlsZQ%3D%3D?line=4'>5</a>\u001b[0m         \u001b[39m\"\u001b[39m\u001b[39mcolumn\u001b[39m\u001b[39m\"\u001b[39m : \u001b[39m\"\u001b[39m\u001b[39mbrd\u001b[39m\u001b[39m\"\u001b[39m,\n\u001b[1;32m      <a href='vscode-notebook-cell:/c%3A/Users/hjp/HJP/projs/no_name_yet/playground/test_franchise_crawler.ipynb#W3sZmlsZQ%3D%3D?line=5'>6</a>\u001b[0m         \u001b[39m\"\u001b[39m\u001b[39mselUpjong\u001b[39m\u001b[39m\"\u001b[39m:\u001b[39m\"\u001b[39m\u001b[39m21\u001b[39m\u001b[39m\"\u001b[39m,\n\u001b[1;32m      <a href='vscode-notebook-cell:/c%3A/Users/hjp/HJP/projs/no_name_yet/playground/test_franchise_crawler.ipynb#W3sZmlsZQ%3D%3D?line=6'>7</a>\u001b[0m         \u001b[39m\"\u001b[39m\u001b[39mselIndus\u001b[39m\u001b[39m\"\u001b[39m : \u001b[39m\"\u001b[39m\u001b[39m\"\u001b[39m,\n\u001b[1;32m      <a href='vscode-notebook-cell:/c%3A/Users/hjp/HJP/projs/no_name_yet/playground/test_franchise_crawler.ipynb#W3sZmlsZQ%3D%3D?line=7'>8</a>\u001b[0m         \u001b[39m\"\u001b[39m\u001b[39mpageUnit\u001b[39m\u001b[39m\"\u001b[39m : \u001b[39m\"\u001b[39m\u001b[39m30\u001b[39m\u001b[39m\"\u001b[39m,\n\u001b[1;32m      <a href='vscode-notebook-cell:/c%3A/Users/hjp/HJP/projs/no_name_yet/playground/test_franchise_crawler.ipynb#W3sZmlsZQ%3D%3D?line=8'>9</a>\u001b[0m         \u001b[39m\"\u001b[39m\u001b[39mpageIndex\u001b[39m\u001b[39m\"\u001b[39m : \u001b[39m\"\u001b[39m\u001b[39m1\u001b[39m\u001b[39m\"\u001b[39m\n\u001b[1;32m     <a href='vscode-notebook-cell:/c%3A/Users/hjp/HJP/projs/no_name_yet/playground/test_franchise_crawler.ipynb#W3sZmlsZQ%3D%3D?line=9'>10</a>\u001b[0m     }\n\u001b[1;32m     <a href='vscode-notebook-cell:/c%3A/Users/hjp/HJP/projs/no_name_yet/playground/test_franchise_crawler.ipynb#W3sZmlsZQ%3D%3D?line=10'>11</a>\u001b[0m )\n",
      "File \u001b[0;32m/mnt/c/Users/hjp/HJP/projs/no_name_yet/scripts/franchise_data_fetcher.py:127\u001b[0m, in \u001b[0;36mFranchiseDataProvideSystemCrawler.fetchFranchiseList\u001b[0;34m(self, list_url, params)\u001b[0m\n\u001b[1;32m    107\u001b[0m franchises_and_query_params \u001b[39m=\u001b[39m \u001b[39mlist\u001b[39m(\u001b[39mmap\u001b[39m(\n\u001b[1;32m    108\u001b[0m     \u001b[39mlambda\u001b[39;00m row_tag : {\n\u001b[1;32m    109\u001b[0m         \u001b[39m\"\u001b[39m\u001b[39mfranchise\u001b[39m\u001b[39m\"\u001b[39m : Franchise(\n\u001b[0;32m   (...)\u001b[0m\n\u001b[1;32m    116\u001b[0m     table_rows\n\u001b[1;32m    117\u001b[0m ))\n\u001b[1;32m    119\u001b[0m franchises \u001b[39m=\u001b[39m [\n\u001b[1;32m    120\u001b[0m     \u001b[39mself\u001b[39m\u001b[39m.\u001b[39mfetchFranchiseView(\n\u001b[1;32m    121\u001b[0m         params \u001b[39m=\u001b[39m franchise_and_query_param[\u001b[39m\"\u001b[39m\u001b[39murl_query_param\u001b[39m\u001b[39m\"\u001b[39m],\n\u001b[0;32m   (...)\u001b[0m\n\u001b[1;32m    124\u001b[0m     \u001b[39mfor\u001b[39;00m franchise_and_query_param \u001b[39min\u001b[39;00m franchises_and_query_params\n\u001b[1;32m    125\u001b[0m ]\n\u001b[0;32m--> 127\u001b[0m \u001b[39mawait\u001b[39;00m asyncio\u001b[39m.\u001b[39mgather(\u001b[39m*\u001b[39mfranchises)\n",
      "File \u001b[0;32m/mnt/c/Users/hjp/HJP/projs/no_name_yet/scripts/franchise_data_fetcher.py:169\u001b[0m, in \u001b[0;36mFranchiseDataProvideSystemCrawler.fetchFranchiseView\u001b[0;34m(self, view_url, params, franchise)\u001b[0m\n\u001b[1;32m    163\u001b[0m     \u001b[39masync\u001b[39;00m \u001b[39mwith\u001b[39;00m session\u001b[39m.\u001b[39mget(\n\u001b[1;32m    164\u001b[0m         view_url,\n\u001b[1;32m    165\u001b[0m         params \u001b[39m=\u001b[39m params\n\u001b[1;32m    166\u001b[0m     ) \u001b[39mas\u001b[39;00m resp :\n\u001b[1;32m    167\u001b[0m         resp_text \u001b[39m=\u001b[39m \u001b[39mawait\u001b[39;00m resp\u001b[39m.\u001b[39mtext()\n\u001b[0;32m--> 169\u001b[0m franchise\u001b[39m.\u001b[39;49mparseFromHtml(resp_text)\n\u001b[1;32m    170\u001b[0m \u001b[39mreturn\u001b[39;00m franchise\n",
      "File \u001b[0;32m/mnt/c/Users/hjp/HJP/projs/no_name_yet/scripts/franchise.py:118\u001b[0m, in \u001b[0;36mFranchise.parseFromHtml\u001b[0;34m(self, html_text)\u001b[0m\n\u001b[1;32m    114\u001b[0m soup \u001b[39m=\u001b[39m BeautifulSoup(html_text, \u001b[39m\"\u001b[39m\u001b[39mlxml\u001b[39m\u001b[39m\"\u001b[39m)\n\u001b[1;32m    116\u001b[0m \u001b[39m# 각 프렌차이즈의 정보를 공개하는 웹페이지의 html에서 \u001b[39;00m\n\u001b[1;32m    117\u001b[0m \u001b[39m# 웹페이지의 \"가맹본부 일반 현황\" 에 해당하는 부분을 파싱한다.\u001b[39;00m\n\u001b[0;32m--> 118\u001b[0m \u001b[39mself\u001b[39m\u001b[39m.\u001b[39mparseGeneralCurrentCondition(soup\u001b[39m.\u001b[39;49mform\u001b[39m.\u001b[39;49mfind(\u001b[39m\"\u001b[39m\u001b[39mdiv\u001b[39m\u001b[39m\"\u001b[39m, \u001b[39m\"\u001b[39m\u001b[39mbox_flop\u001b[39m\u001b[39m\"\u001b[39m)\u001b[39m.\u001b[39mtable)\n\u001b[1;32m    120\u001b[0m \u001b[39m# 다른 정보들을 파싱하는 부분도 만들어야 함..\u001b[39;00m\n\u001b[1;32m    121\u001b[0m \u001b[39mpass\u001b[39;00m\n",
      "\u001b[0;31mAttributeError\u001b[0m: 'NoneType' object has no attribute 'find'"
     ]
    }
   ],
   "source": [
    "await crawler.fetchFranchiseList(\n",
    "    params = {\n",
    "        \"searchCondition\" : \"\",\n",
    "        \"searchKeyword\" : \"\",\n",
    "        \"column\" : \"brd\",\n",
    "        \"selUpjong\":\"21\",\n",
    "        \"selIndus\" : \"\",\n",
    "        \"pageUnit\" : \"30\",\n",
    "        \"pageIndex\" : \"1\"\n",
    "    }\n",
    ")"
   ]
  },
  {
   "cell_type": "code",
   "execution_count": 2,
   "metadata": {},
   "outputs": [
    {
     "name": "stdout",
     "output_type": "stream",
     "text": [
      "/mnt/c/Users/hjp/HJP/projs/no_name_yet\n"
     ]
    }
   ],
   "source": []
  }
 ],
 "metadata": {
  "kernelspec": {
   "display_name": "Python 3 (ipykernel)",
   "language": "python",
   "name": "python3"
  },
  "language_info": {
   "codemirror_mode": {
    "name": "ipython",
    "version": 3
   },
   "file_extension": ".py",
   "mimetype": "text/x-python",
   "name": "python",
   "nbconvert_exporter": "python",
   "pygments_lexer": "ipython3",
   "version": "3.9.12"
  },
  "orig_nbformat": 4
 },
 "nbformat": 4,
 "nbformat_minor": 2
}
